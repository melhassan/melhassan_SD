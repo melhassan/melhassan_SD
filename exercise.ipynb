{
 "cells": [
  {
   "cell_type": "markdown",
   "id": "6a3a0d7b-4dd7-4c76-808f-c077803f9da9",
   "metadata": {},
   "source": [
    "# Title of the note book"
   ]
  },
  {
   "cell_type": "markdown",
   "id": "c24f2604-6f0a-4446-af81-02a668f2f742",
   "metadata": {},
   "source": [
    "# introduction"
   ]
  },
  {
   "cell_type": "markdown",
   "id": "7e54ab52-1ecd-4183-ba20-42be88bf6985",
   "metadata": {},
   "source": [
    "# Data Science Languages\n",
    "\n",
    "1. Python\n",
    "2. R\n",
    "3. SQL\n",
    "4. Julia\n",
    "5. Scala\n",
    "6. Java\n",
    "7. JavaScript"
   ]
  },
  {
   "cell_type": "markdown",
   "id": "fa1246f3-7cc1-4578-9c57-7fdc8eee3524",
   "metadata": {},
   "source": [
    "# Data Science Libraries\n",
    "\n",
    "- **Pandas**: Data manipulation and analysis.\n",
    "- **NumPy**: Numerical computing and array processing.\n",
    "- **SciPy**: Scientific computing and technical computing.\n",
    "- **Matplotlib**: Data visualization and plotting.\n",
    "- **Seaborn**: Statistical data visualization.\n",
    "- **Scikit-learn**: Machine learning algorithms and tools.\n",
    "- **TensorFlow**: Deep learning and neural network library.\n",
    "- **Keras**: High-level neural networks API.\n",
    "- **ggplot2**: Data visualization for R.\n",
    "- **dplyr**: Data manipulation for R.\n"
   ]
  },
  {
   "cell_type": "markdown",
   "id": "c1a399c9-2523-403a-b5ad-1cae85d5f11c",
   "metadata": {},
   "source": [
    "# Data Science Tools\n",
    "\n",
    "| Tool           | Description                             | Language    |\n",
    "|----------------|-----------------------------------------|-------------|\n",
    "| Jupyter        | Interactive notebooks for coding        | Python, R   |\n",
    "| RStudio        | IDE for R programming                   | R           |\n",
    "| Apache Spark   | Big data processing framework            | Scala, Python, R |\n",
    "| TensorFlow     | Deep learning framework                  | Python      |\n",
    "| Keras          | High-level neural networks API          | Python      |\n",
    "| Pandas         | Data manipulation and analysis library   | Python      |\n",
    "| ggplot2        | Data visualization package for R        | R           |\n",
    "| Matplotlib     | 2D plotting library for Python          | Python      |\n",
    "| Scikit-learn   | Machine learning library                 | Python      |\n",
    "| Tableau        | Data visualization tool                  | Various     |\n"
   ]
  },
  {
   "cell_type": "code",
   "execution_count": 13,
   "id": "6a45af7d-e105-4f30-b625-8992f0d9f6b4",
   "metadata": {},
   "outputs": [
    {
     "data": {
      "text/plain": [
       "8"
      ]
     },
     "execution_count": 13,
     "metadata": {},
     "output_type": "execute_result"
    }
   ],
   "source": [
    "\n",
    "   3 + 5\n",
    "  \n",
    "\n"
   ]
  },
  {
   "cell_type": "code",
   "execution_count": 17,
   "id": "3fbd1c11-aab4-4afb-98b4-b4433ad1c9b9",
   "metadata": {},
   "outputs": [
    {
     "data": {
      "text/plain": [
       "130"
      ]
     },
     "execution_count": 17,
     "metadata": {},
     "output_type": "execute_result"
    }
   ],
   "source": [
    "2 * 65"
   ]
  },
  {
   "cell_type": "code",
   "execution_count": 19,
   "id": "76ab46c2-2dc0-4ea1-96df-379e1d8f3bc3",
   "metadata": {},
   "outputs": [],
   "source": [
    "a = 5\n",
    "b = 10\n",
    "m = a * b\n",
    "r = a + b"
   ]
  },
  {
   "cell_type": "code",
   "execution_count": 21,
   "id": "2d346108-4f27-40ed-b700-3e148bb66945",
   "metadata": {},
   "outputs": [
    {
     "name": "stdout",
     "output_type": "stream",
     "text": [
      "50 15\n"
     ]
    }
   ],
   "source": [
    "print(m, r)"
   ]
  },
  {
   "cell_type": "code",
   "execution_count": 23,
   "id": "e8602400-4f0d-4b68-ad43-8f45122a8b67",
   "metadata": {},
   "outputs": [
    {
     "name": "stdout",
     "output_type": "stream",
     "text": [
      "50\n"
     ]
    }
   ],
   "source": [
    "print(m)"
   ]
  },
  {
   "cell_type": "code",
   "execution_count": 25,
   "id": "9be94a30-d938-44c6-bfc7-7fceee714829",
   "metadata": {},
   "outputs": [
    {
     "name": "stdout",
     "output_type": "stream",
     "text": [
      "15\n"
     ]
    }
   ],
   "source": [
    "print(r)\n"
   ]
  },
  {
   "cell_type": "markdown",
   "id": "4488844a-1a54-4081-9340-0a55e0626c58",
   "metadata": {},
   "source": [
    "# Arithmetic Expression Examples"
   ]
  },
  {
   "cell_type": "code",
   "execution_count": 30,
   "id": "274d619c-0eb7-436a-bf44-2995e1c18566",
   "metadata": {},
   "outputs": [
    {
     "name": "stdout",
     "output_type": "stream",
     "text": [
      "2.0\n"
     ]
    }
   ],
   "source": [
    "minutes = 120\n",
    "hours = minutes / 60\n",
    "print(hours)"
   ]
  },
  {
   "cell_type": "markdown",
   "id": "3a6ff5f7-8cd4-48ac-9a22-037dbd42b9d8",
   "metadata": {},
   "source": [
    "# Objectives\n",
    "\n",
    "- Understand the basic concepts of data science.\n",
    "- Learn about various data science languages and libraries.\n",
    "- Explore arithmetic expressions and their applications.\n",
    "- Implement code to perform conversions, such as minutes to hours.\n",
    "- Gain familiarity with creating and using markdown cells for documentation."
   ]
  },
  {
   "cell_type": "markdown",
   "id": "2b0c5eb4-cbc3-452d-a751-8542dca344f5",
   "metadata": {},
   "source": [
    "# Author\n",
    "**Name: [Motaz]**\n"
   ]
  },
  {
   "cell_type": "code",
   "execution_count": null,
   "id": "790dcd68-d8e1-43d3-98f3-5e23f24f764a",
   "metadata": {},
   "outputs": [],
   "source": []
  }
 ],
 "metadata": {
  "kernelspec": {
   "display_name": "Python 3 (ipykernel)",
   "language": "python",
   "name": "python3"
  },
  "language_info": {
   "codemirror_mode": {
    "name": "ipython",
    "version": 3
   },
   "file_extension": ".py",
   "mimetype": "text/x-python",
   "name": "python",
   "nbconvert_exporter": "python",
   "pygments_lexer": "ipython3",
   "version": "3.11.5"
  }
 },
 "nbformat": 4,
 "nbformat_minor": 5
}
